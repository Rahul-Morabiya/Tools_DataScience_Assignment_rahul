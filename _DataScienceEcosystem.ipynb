{
 "cells": [
  {
   "cell_type": "markdown",
   "id": "2efd3af8",
   "metadata": {},
   "source": [
    "#  Data Science Tools and Ecosystem "
   ]
  },
  {
   "cell_type": "markdown",
   "id": "0aaea094",
   "metadata": {},
   "source": [
    "In this Jupyter notebook, Data Science Tools and Ecosystem are summarised, this notebook is an assignment that is to be submitted."
   ]
  },
  {
   "cell_type": "markdown",
   "id": "d726c490",
   "metadata": {},
   "source": [
    "There are many languages used in Data Science ,some of the popular ones that Data Scientist use are:\n",
    " 1. JavaScript\n",
    " 2. Julia\n",
    " 3. R\n",
    " 4. Python\n",
    " 5. Scala"
   ]
  },
  {
   "cell_type": "markdown",
   "id": "44651b9a",
   "metadata": {},
   "source": [
    "Some of the popularly libraries used by data Scientists include : \n",
    "1. seaborn\n",
    "2. pandas\n",
    "3. numpy\n",
    "4. ggplot2"
   ]
  },
  {
   "cell_type": "markdown",
   "id": "7d7a8951",
   "metadata": {},
   "source": [
    "| Data Science Tools |\n",
    "|------------------|\n",
    "|Rstudio|\n",
    "|JupyterLab|\n",
    "|JupyterNotebook|"
   ]
  },
  {
   "cell_type": "markdown",
   "id": "d64e7b60",
   "metadata": {},
   "source": [
    "### Below are a few examples of evaluating arithmetic expressions in Python\n"
   ]
  },
  {
   "cell_type": "code",
   "execution_count": 6,
   "id": "5c4c7270",
   "metadata": {},
   "outputs": [
    {
     "data": {
      "text/plain": [
       "6"
      ]
     },
     "execution_count": 6,
     "metadata": {},
     "output_type": "execute_result"
    }
   ],
   "source": [
    "(1+5)"
   ]
  },
  {
   "cell_type": "code",
   "execution_count": 7,
   "id": "0b5f8b6a",
   "metadata": {},
   "outputs": [
    {
     "data": {
      "text/plain": [
       "-60"
      ]
     },
     "execution_count": 7,
     "metadata": {},
     "output_type": "execute_result"
    }
   ],
   "source": [
    "(9-4+56+12-133)"
   ]
  },
  {
   "cell_type": "code",
   "execution_count": 8,
   "id": "a8ecca83",
   "metadata": {},
   "outputs": [
    {
     "data": {
      "text/plain": [
       "17"
      ]
     },
     "execution_count": 8,
     "metadata": {},
     "output_type": "execute_result"
    }
   ],
   "source": [
    "#This a simple arithmetic expression to mutiply then add integers\n",
    "(3*4)+5"
   ]
  },
  {
   "cell_type": "code",
   "execution_count": 9,
   "id": "35bff7ee",
   "metadata": {},
   "outputs": [
    {
     "data": {
      "text/plain": [
       "3.3333333333333335"
      ]
     },
     "execution_count": 9,
     "metadata": {},
     "output_type": "execute_result"
    }
   ],
   "source": [
    "#This will convert 200 minutes to hours by diving by 60\n",
    "(200/60)"
   ]
  },
  {
   "cell_type": "markdown",
   "id": "d7bad93c",
   "metadata": {},
   "source": [
    "__Obectives__ \n",
    "* List Popular Languages for Data Science \n",
    "* List Some Popular Libraries of Data Science\n",
    "*  Arithmetic expressions "
   ]
  },
  {
   "cell_type": "markdown",
   "id": "d240be93",
   "metadata": {},
   "source": [
    "##  Author \n",
    "Rahul Morabiya"
   ]
  }
 ],
 "metadata": {
  "kernelspec": {
   "display_name": "Python 3 (ipykernel)",
   "language": "python",
   "name": "python3"
  },
  "language_info": {
   "codemirror_mode": {
    "name": "ipython",
    "version": 3
   },
   "file_extension": ".py",
   "mimetype": "text/x-python",
   "name": "python",
   "nbconvert_exporter": "python",
   "pygments_lexer": "ipython3",
   "version": "3.9.13"
  }
 },
 "nbformat": 4,
 "nbformat_minor": 5
}
